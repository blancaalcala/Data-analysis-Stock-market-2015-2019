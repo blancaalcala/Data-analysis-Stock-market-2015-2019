{
 "cells": [
  {
   "cell_type": "code",
   "execution_count": 93,
   "metadata": {},
   "outputs": [],
   "source": [
    "import requests\n",
    "from bs4 import BeautifulSoup\n",
    "\n",
    "from IPython.display import Image\n",
    "from IPython.core.display import HTML \n",
    "\n",
    "def request(url):\n",
    "    res = requests.get(url)\n",
    "    html = res.text\n",
    "    return BeautifulSoup(html, 'html.parser')\n",
    "x = request(\"https://es.wikipedia.org/wiki/Elecciones_generales_de_Espa%C3%B1a_de_abril_de_2019\")"
   ]
  },
  {
   "cell_type": "code",
   "execution_count": 94,
   "metadata": {},
   "outputs": [
    {
     "data": {
      "text/html": [
       "<img src=\"//upload.wikimedia.org/wikipedia/commons/thumb/8/8c/Spanish_Congress_of_Deputies_election%2C_2019_result.svg/250px-Spanish_Congress_of_Deputies_election%2C_2019_result.svg.png\"/>"
      ],
      "text/plain": [
       "<IPython.core.display.Image object>"
      ]
     },
     "metadata": {},
     "output_type": "display_data"
    }
   ],
   "source": [
    "images = x.findAll('img')[23]\n",
    "display(Image(url=images.get(\"src\")))"
   ]
  },
  {
   "cell_type": "code",
   "execution_count": 11,
   "metadata": {},
   "outputs": [
    {
     "data": {
      "text/plain": [
       "[<img alt=\"Elecciones generales de España de 2011\" data-file-height=\"185\" data-file-width=\"360\" decoding=\"async\" height=\"141\" src=\"//upload.wikimedia.org/wikipedia/commons/thumb/d/d7/SpainCongressDiagram2011.svg/275px-SpainCongressDiagram2011.svg.png\" srcset=\"//upload.wikimedia.org/wikipedia/commons/thumb/d/d7/SpainCongressDiagram2011.svg/413px-SpainCongressDiagram2011.svg.png 1.5x, //upload.wikimedia.org/wikipedia/commons/thumb/d/d7/SpainCongressDiagram2011.svg/550px-SpainCongressDiagram2011.svg.png 2x\" width=\"275\"/>]"
      ]
     },
     "execution_count": 11,
     "metadata": {},
     "output_type": "execute_result"
    }
   ],
   "source": [
    "i"
   ]
  },
  {
   "cell_type": "code",
   "execution_count": null,
   "metadata": {},
   "outputs": [],
   "source": []
  }
 ],
 "metadata": {
  "kernelspec": {
   "display_name": "Python 3",
   "language": "python",
   "name": "python3"
  },
  "language_info": {
   "codemirror_mode": {
    "name": "ipython",
    "version": 3
   },
   "file_extension": ".py",
   "mimetype": "text/x-python",
   "name": "python",
   "nbconvert_exporter": "python",
   "pygments_lexer": "ipython3",
   "version": "3.7.5"
  }
 },
 "nbformat": 4,
 "nbformat_minor": 2
}
