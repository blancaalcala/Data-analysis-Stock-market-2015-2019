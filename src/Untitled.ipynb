{
 "cells": [
  {
   "cell_type": "code",
   "execution_count": 76,
   "metadata": {},
   "outputs": [
    {
     "data": {
      "image/png": "[encoded data removed]",
      "text/plain": [
       "<Figure size 432x288 with 1 Axes>"
      ]
     },
     "metadata": {
      "needs_background": "light"
     },
     "output_type": "display_data"
    }
   ],
   "source": [
    "import pandas as pd\n",
    "import re\n",
    "import numpy as np\n",
    "import function as F\n",
    "import matplotlib\n",
    "import matplotlib.pyplot as plt\n",
    "\n",
    "pd.options.mode.chained_assignment = None\n",
    "\n",
    "\n",
    "sant = pd.read_csv(\"../input/santander.csv\") \n",
    "bank = pd.read_csv(\"../input/bankinter.csv\")\n",
    "sab = pd.read_csv(\"../input/banco-sabadell.csv\")\n",
    "bbva = pd.read_csv(\"../input/bbva.csv\")\n",
    "caixa = pd.read_csv(\"../input/caixabank.csv\")\n",
    "banks = [sant, bank, sab, bbva, caixa]\n",
    "names = [\"Santander\",\"Bankinter\",\"Banco Sabadell\",\"BBVA\",\"Caixa Bank\"]\n",
    "for x in range(len(banks)):\n",
    "    banks[x][\"Date\"] = banks[x][\"Date\"].apply(F.date_digits)\n",
    "    banks[x] = banks[x].loc[(banks[x][\"Date\"].apply(F.cut_year))]\n",
    "    banks[x][\"Bank\"] = names[x]\n",
    "    banks[x] = banks[x].groupby([\"Bank\",\"Date\"])[\"Close\", \"High\", \"Low\", \"Open\", \"Volume\"].mean()\n",
    "\n",
    "df = pd.concat([banks[0],banks[1],banks[2],banks[3],banks[4]])\n",
    "\n",
    "#GRAFICA\n",
    "\n",
    "\n",
    "r1 = [banks[0]['Close'].values[0],banks[0]['Close'].values[1],banks[0]['Close'].values[2],banks[0]['Close'].values[3],banks[0]['Close'].values[4]]\n",
    "r2 = [banks[1]['Close'].values[0],banks[1]['Close'].values[1],banks[1]['Close'].values[2],banks[1]['Close'].values[3],banks[1]['Close'].values[4]]\n",
    "r3 = [banks[2]['Close'].values[0],banks[2]['Close'].values[1],banks[2]['Close'].values[2],banks[2]['Close'].values[3],banks[2]['Close'].values[4]]\n",
    "r4 = [banks[3]['Close'].values[0],banks[3]['Close'].values[1],banks[3]['Close'].values[2],banks[3]['Close'].values[3],banks[3]['Close'].values[4]]\n",
    "r5 = [banks[4]['Close'].values[0],banks[4]['Close'].values[1],banks[4]['Close'].values[2],banks[4]['Close'].values[3],banks[4]['Close'].values[4]]\n",
    "\n",
    " \n",
    "# Set position of bar on X axis\n",
    "a1 = np.arange(len(r1))\n",
    "bwidth = 0.15\n",
    "fig, ax = plt.subplots()\n",
    "\n",
    "rects1 = plt.bar(a1,r1,width=bwidth,color='red',zorder=2,label=\"Santander\")\n",
    "rects2 = plt.bar(a1+bwidth,r2,width=bwidth,color='orange',zorder=2,label=\"Bankinter\")\n",
    "rects3 = plt.bar(a1+bwidth*2,r3,width=bwidth,color='deepskyblue',zorder=2,label=\"Sabadell\")\n",
    "rects4 = plt.bar(a1+bwidth*3,r4,width=bwidth,color='navy',zorder=2,label=\"BBVA\")\n",
    "rects5 = plt.bar(a1+bwidth*4,r5,width=bwidth,color='black',zorder=2,label=\"Caixa\")\n",
    "\n",
    "plt.xticks(a1+bwidth,[\"2015\",\"2016\",\"2017\",\"2018\",\"2019\"])\n",
    "plt.title(\"Banks\")\n",
    "plt.xlabel(\"Year\")\n",
    "plt.ylabel(\"Closed Stock\")\n",
    "plt.legend()\n",
    "\n",
    "plt.grid(axis=\"y\")\n",
    "plt.show()\n",
    "        \n",
    "        \n",
    "        \n",
    "        "
   ]
  },
  {
   "cell_type": "code",
   "execution_count": 27,
   "metadata": {},
   "outputs": [
    {
     "data": {
      "text/plain": [
       "[6.758078125000003,\n",
       " 6.466225680933854,\n",
       " 7.898615686274511,\n",
       " 8.195031372549025,\n",
       " 6.914145454545456]"
      ]
     },
     "execution_count": 27,
     "metadata": {},
     "output_type": "execute_result"
    }
   ],
   "source": []
  },
  {
   "cell_type": "code",
   "execution_count": 15,
   "metadata": {},
   "outputs": [
    {
     "data": {
      "text/plain": [
       "[                   Close      High       Low      Open        Volume\n",
       " Bank      Date                                                      \n",
       " Santander 2015  5.746781  5.817719  5.678625  5.755426  5.970035e+07\n",
       "           2016  3.916934  3.981230  3.851837  3.916840  6.189440e+07\n",
       "           2017  5.500894  5.555306  5.444749  5.500557  7.184282e+07\n",
       "           2018  4.816761  4.869902  4.775475  4.828694  7.393420e+07\n",
       "           2019  4.222191  4.267709  4.173809  4.221427  8.488136e+07,\n",
       "                    Close      High       Low      Open        Volume\n",
       " Bank      Date                                                      \n",
       " Bankinter 2015  6.758078  6.837316  6.676703  6.762086  3.318364e+06\n",
       "           2016  6.466226  6.540109  6.386774  6.459844  2.413643e+06\n",
       "           2017  7.898616  7.956498  7.836694  7.898510  2.943175e+06\n",
       "           2018  8.195031  8.276302  8.119894  8.203718  2.518498e+06\n",
       "           2019  6.914145  6.985218  6.847655  6.920400  2.248333e+06,\n",
       "                         Close      High       Low      Open        Volume\n",
       " Bank           Date                                                      \n",
       " Banco Sabadell 2015  1.947270  1.975297  1.917777  1.949484  2.997863e+07\n",
       "                2016  1.360152  1.385202  1.334420  1.360918  2.694467e+07\n",
       "                2017  1.683855  1.702169  1.662733  1.682235  2.303404e+07\n",
       "                2018  1.473145  1.491953  1.456004  1.477016  2.000682e+07\n",
       "                2019  0.983355  0.999591  0.967482  0.984391  2.919618e+07,\n",
       "               Close      High       Low      Open        Volume\n",
       " Bank Date                                                      \n",
       " BBVA 2015  7.965906  8.053254  7.875801  7.971301  2.718574e+07\n",
       "      2016  5.558031  5.644401  5.469992  5.558261  3.073584e+07\n",
       "      2017  7.105918  7.177608  7.035329  7.108329  2.022671e+07\n",
       "      2018  6.016145  6.083251  5.963275  6.030561  2.007090e+07\n",
       "      2019  5.193891  5.247273  5.133173  5.190782  2.956645e+07,\n",
       "                     Close      High       Low      Open        Volume\n",
       " Bank       Date                                                      \n",
       " Caixa Bank 2015  3.840012  3.890430  3.794086  3.844918  1.562117e+07\n",
       "            2016  2.518327  2.564514  2.472412  2.519883  1.773086e+07\n",
       "            2017  3.970431  4.016353  3.922235  3.968627  2.304271e+07\n",
       "            2018  3.867216  3.912510  3.826667  3.875569  2.383404e+07\n",
       "            2019  2.969727  3.005473  2.933836  2.972836  1.918136e+07]"
      ]
     },
     "execution_count": 15,
     "metadata": {},
     "output_type": "execute_result"
    }
   ],
   "source": [
    "banks"
   ]
  },
  {
   "cell_type": "code",
   "execution_count": null,
   "metadata": {},
   "outputs": [],
   "source": []
  }
 ],
 "metadata": {
  "kernelspec": {
   "display_name": "Python 3",
   "language": "python",
   "name": "python3"
  },
  "language_info": {
   "codemirror_mode": {
    "name": "ipython",
    "version": 3
   },
   "file_extension": ".py",
   "mimetype": "text/x-python",
   "name": "python",
   "nbconvert_exporter": "python",
   "pygments_lexer": "ipython3",
   "version": "3.7.4"
  }
 },
 "nbformat": 4,
 "nbformat_minor": 2
}
