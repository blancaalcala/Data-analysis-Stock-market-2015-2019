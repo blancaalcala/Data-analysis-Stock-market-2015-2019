{
 "cells": [
  {
   "cell_type": "code",
   "execution_count": 10,
   "metadata": {},
   "outputs": [
    {
     "ename": "NameError",
     "evalue": "name 'bars1' is not defined",
     "output_type": "error",
     "traceback": [
      "\u001b[0;31m---------------------------------------------------------------------------\u001b[0m",
      "\u001b[0;31mNameError\u001b[0m                                 Traceback (most recent call last)",
      "\u001b[0;32m<ipython-input-10-be54f5f0c20b>\u001b[0m in \u001b[0;36m<module>\u001b[0;34m\u001b[0m\n\u001b[1;32m     51\u001b[0m \u001b[0;31m# Add xticks on the middle of the group bars\u001b[0m\u001b[0;34m\u001b[0m\u001b[0;34m\u001b[0m\u001b[0;34m\u001b[0m\u001b[0m\n\u001b[1;32m     52\u001b[0m \u001b[0mplt\u001b[0m\u001b[0;34m.\u001b[0m\u001b[0mxlabel\u001b[0m\u001b[0;34m(\u001b[0m\u001b[0;34m'group'\u001b[0m\u001b[0;34m,\u001b[0m \u001b[0mfontweight\u001b[0m\u001b[0;34m=\u001b[0m\u001b[0;34m'bold'\u001b[0m\u001b[0;34m)\u001b[0m\u001b[0;34m\u001b[0m\u001b[0;34m\u001b[0m\u001b[0m\n\u001b[0;32m---> 53\u001b[0;31m \u001b[0mplt\u001b[0m\u001b[0;34m.\u001b[0m\u001b[0mxticks\u001b[0m\u001b[0;34m(\u001b[0m\u001b[0;34m[\u001b[0m\u001b[0mr\u001b[0m \u001b[0;34m+\u001b[0m \u001b[0mbarWidth\u001b[0m \u001b[0;32mfor\u001b[0m \u001b[0mr\u001b[0m \u001b[0;32min\u001b[0m \u001b[0mrange\u001b[0m\u001b[0;34m(\u001b[0m\u001b[0mlen\u001b[0m\u001b[0;34m(\u001b[0m\u001b[0mbars1\u001b[0m\u001b[0;34m)\u001b[0m\u001b[0;34m)\u001b[0m\u001b[0;34m]\u001b[0m\u001b[0;34m,\u001b[0m \u001b[0;34m[\u001b[0m\u001b[0;34m'2015'\u001b[0m\u001b[0;34m,\u001b[0m \u001b[0;34m'2016'\u001b[0m\u001b[0;34m,\u001b[0m \u001b[0;34m'2017'\u001b[0m\u001b[0;34m,\u001b[0m \u001b[0;34m'2018'\u001b[0m\u001b[0;34m,\u001b[0m \u001b[0;34m'2019'\u001b[0m\u001b[0;34m]\u001b[0m\u001b[0;34m)\u001b[0m\u001b[0;34m\u001b[0m\u001b[0;34m\u001b[0m\u001b[0m\n\u001b[0m\u001b[1;32m     54\u001b[0m \u001b[0;34m\u001b[0m\u001b[0m\n\u001b[1;32m     55\u001b[0m \u001b[0;31m# Create legend & Show graphic\u001b[0m\u001b[0;34m\u001b[0m\u001b[0;34m\u001b[0m\u001b[0;34m\u001b[0m\u001b[0m\n",
      "\u001b[0;31mNameError\u001b[0m: name 'bars1' is not defined"
     ]
    },
    {
     "data": {
      "image/png": "[encoded data removed]",
      "text/plain": [
       "<Figure size 432x288 with 1 Axes>"
      ]
     },
     "metadata": {
      "needs_background": "light"
     },
     "output_type": "display_data"
    }
   ],
   "source": [
    "import pandas as pd\n",
    "import re\n",
    "import numpy as np\n",
    "import function as F\n",
    "import matplotlib\n",
    "import matplotlib.pyplot as plt\n",
    "\n",
    "pd.options.mode.chained_assignment = None\n",
    "\n",
    "\n",
    "sant = pd.read_csv(\"../input/santander.csv\") \n",
    "bank = pd.read_csv(\"../input/bankinter.csv\")\n",
    "sab = pd.read_csv(\"../input/banco-sabadell.csv\")\n",
    "bbva = pd.read_csv(\"../input/bbva.csv\")\n",
    "caixa = pd.read_csv(\"../input/caixabank.csv\")\n",
    "banks = [sant, bank, sab, bbva, caixa]\n",
    "names = [\"Santander\",\"Bankinter\",\"Banco Sabadell\",\"BBVA\",\"Caixa Bank\"]\n",
    "for x in range(len(banks)):\n",
    "    banks[x][\"Date\"] = banks[x][\"Date\"].apply(F.date_digits)\n",
    "    banks[x] = banks[x].loc[(banks[x][\"Date\"].apply(F.cut_year))]\n",
    "    banks[x][\"Bank\"] = names[x]\n",
    "    banks[x] = banks[x].groupby([\"Bank\",\"Date\"])[\"Close\", \"High\", \"Low\", \"Open\", \"Volume\"].mean()\n",
    "\n",
    "df = pd.concat([banks[0],banks[1],banks[2],banks[3],banks[4]])\n",
    "\n",
    "#GRAFICA\n",
    "\n",
    "barWidth = 0.25\n",
    "r1 = [banks[0]['Close'].values[0],banks[0]['Close'].values[1],banks[0]['Close'].values[2],banks[0]['Close'].values[3],banks[0]['Close'].values[4]]\n",
    "r2 = [banks[1]['Close'].values[0],banks[1]['Close'].values[1],banks[1]['Close'].values[2],banks[1]['Close'].values[3],banks[1]['Close'].values[4]]\n",
    "r3 = [banks[2]['Close'].values[0],banks[2]['Close'].values[1],banks[2]['Close'].values[2],banks[2]['Close'].values[3],banks[2]['Close'].values[4]]\n",
    "r4 = [banks[3]['Close'].values[0],banks[3]['Close'].values[1],banks[3]['Close'].values[2],banks[3]['Close'].values[3],banks[3]['Close'].values[4]]\n",
    "r5 = [banks[4]['Close'].values[0],banks[4]['Close'].values[1],banks[4]['Close'].values[2],banks[4]['Close'].values[3],banks[4]['Close'].values[4]]\n",
    "\n",
    " \n",
    "# Set position of bar on X axis\n",
    "a1 = np.arange(len(r1))\n",
    "a2 = [x + barWidth for x in r1]\n",
    "a3 = [x + barWidth for x in r2]\n",
    "a4 = [x + barWidth for x in r3]\n",
    "a5 = [x + barWidth for x in r4]\n",
    " \n",
    "# Make the plot\n",
    "plt.bar(a1, r1, color='#7f6d5f', width=barWidth, edgecolor='white', label='Santander')\n",
    "plt.bar(a2, r2, color='#557f2d', width=barWidth, edgecolor='white', label='Bankinter')\n",
    "plt.bar(a3, r3, color='#2d7f5e', width=barWidth, edgecolor='white', label='Sabadell')\n",
    "plt.bar(a4, r4, color='#2d7f5e', width=barWidth, edgecolor='white', label='BBVA')\n",
    "plt.bar(a5, r5, color='#2d7f5e', width=barWidth, edgecolor='white', label='Caixa')\n",
    "\n",
    " \n",
    "\n",
    " \n",
    "# Create legend & Show graphic\n",
    "plt.legend()\n",
    "plt.show()"
   ]
  },
  {
   "cell_type": "code",
   "execution_count": 7,
   "metadata": {},
   "outputs": [],
   "source": []
  },
  {
   "cell_type": "code",
   "execution_count": null,
   "metadata": {},
   "outputs": [],
   "source": []
  }
 ],
 "metadata": {
  "kernelspec": {
   "display_name": "Python 3",
   "language": "python",
   "name": "python3"
  },
  "language_info": {
   "codemirror_mode": {
    "name": "ipython",
    "version": 3
   },
   "file_extension": ".py",
   "mimetype": "text/x-python",
   "name": "python",
   "nbconvert_exporter": "python",
   "pygments_lexer": "ipython3",
   "version": "3.7.4"
  }
 },
 "nbformat": 4,
 "nbformat_minor": 2
}
