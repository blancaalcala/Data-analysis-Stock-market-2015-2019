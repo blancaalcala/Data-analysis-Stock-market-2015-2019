{
 "cells": [
  {
   "cell_type": "code",
   "execution_count": 2,
   "metadata": {},
   "outputs": [
    {
     "ename": "IndentationError",
     "evalue": "unexpected indent (<ipython-input-2-3ca4c82799ec>, line 7)",
     "output_type": "error",
     "traceback": [
      "\u001b[0;36m  File \u001b[0;32m\"<ipython-input-2-3ca4c82799ec>\"\u001b[0;36m, line \u001b[0;32m7\u001b[0m\n\u001b[0;31m    sub_links = [\"san\",\"bkt\",\"sab\",\"bbva\",\"cabk\"]\u001b[0m\n\u001b[0m    ^\u001b[0m\n\u001b[0;31mIndentationError\u001b[0m\u001b[0;31m:\u001b[0m unexpected indent\n"
     ]
    }
   ],
   "source": [
    "import pandas as pd\n",
    "import matplotlib as plt\n",
    "import requests\n",
    "from bs4 import BeautifulSoup\n",
    "\n",
    "'''consulta en directo el valor de stock de cada'''\n",
    "sub_links = [\"san\",\"bkt\",\"sab\",\"bbva\",\"cabk\"]\n",
    "names = [\"Banco Santander\",\"Banco Bankinter\", \"Banco Sabadell\", \"BBVA\", \"CaixaBank\"]\n",
    "actual = []\n",
    "previous = []\n",
    "for i in range(len(sub_links)):\n",
    "    link= \"https://www.marketwatch.com/investing/stock/\"+sub_links[i]+\"?countrycode=es\" \n",
    "    res = requests.get(link)\n",
    "    print(link)\n",
    "    html = res.text\n",
    "    soup = BeautifulSoup(html, 'html.parser')\n",
    "    act = soup.select(\"body > div.container.wrapper.clearfix.j-quoteContainer.stock > div.region.region--fixed > div.template.template--aside > div > div > div.intraday__data > h3 > bg-quote\")\n",
    "    print(act)\n",
    "    actual.append(act)\n",
    "    prev = (soup.select)(\"body > div.container.wrapper.clearfix.j-quoteContainer.stock > div.region.region--fixed > div.template.template--aside > div > div > div.intraday__close > table > tbody > tr > td\")[0].text\n",
    "    previous.append(prev[1:])\n",
    "    time = soup(\"span\",class_=\"timestamp__time\")[0].text"
   ]
  },
  {
   "cell_type": "code",
   "execution_count": null,
   "metadata": {},
   "outputs": [],
   "source": [
    "\n"
   ]
  },
  {
   "cell_type": "code",
   "execution_count": null,
   "metadata": {},
   "outputs": [],
   "source": []
  },
  {
   "cell_type": "code",
   "execution_count": null,
   "metadata": {},
   "outputs": [],
   "source": []
  }
 ],
 "metadata": {
  "kernelspec": {
   "display_name": "Python 3",
   "language": "python",
   "name": "python3"
  },
  "language_info": {
   "codemirror_mode": {
    "name": "ipython",
    "version": 3
   },
   "file_extension": ".py",
   "mimetype": "text/x-python",
   "name": "python",
   "nbconvert_exporter": "python",
   "pygments_lexer": "ipython3",
   "version": "3.7.5"
  }
 },
 "nbformat": 4,
 "nbformat_minor": 2
}
